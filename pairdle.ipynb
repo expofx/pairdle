{
 "cells": [
  {
   "cell_type": "code",
   "execution_count": 60,
   "metadata": {},
   "outputs": [],
   "source": [
    "import requests\n",
    "import numpy as np\n",
    "import json\n",
    "import pandas as pd\n",
    "from sklearn.manifold import TSNE\n",
    "\n",
    "import matplotlib\n",
    "import matplotlib.pyplot as plt"
   ]
  },
  {
   "cell_type": "code",
   "execution_count": 50,
   "metadata": {},
   "outputs": [],
   "source": [
    "def get_emb(word):\n",
    "    headers = {\n",
    "        \"Content-Type\": \"application/json\",\n",
    "        \"Authorization\": f\"Bearer {OPENAI_API_KEY}\"\n",
    "    }\n",
    "    data = {\n",
    "        \"input\": word,\n",
    "        \"model\": \"text-embedding-ada-002\"\n",
    "    }\n",
    "    response = requests.post(\"https://api.openai.com/v1/embeddings\", json=data, headers=headers)\n",
    "    return np.array(response.json()[\"data\"][0][\"embedding\"])\n",
    "\n",
    "def get_distance(word1, word2):\n",
    "    emb1 = get_word_embedding(word1)\n",
    "    emb2 = get_word_embedding(word2)\n",
    "    # cosine similarity\n",
    "    similarity = np.dot(emb1, emb2) / (np.linalg.norm(emb1) * np.linalg.norm(emb2))\n",
    "    return similarity\n",
    "\n",
    "# def euclidean_dist(emb1, emb2):\n",
    "#     distance = np.linalg.norm(emb1 - emb2)\n",
    "#     return distance\n"
   ]
  },
  {
   "cell_type": "code",
   "execution_count": 62,
   "metadata": {},
   "outputs": [],
   "source": [
    "OPENAI_API_KEY = input(\"API key: \")"
   ]
  },
  {
   "cell_type": "code",
   "execution_count": 52,
   "metadata": {},
   "outputs": [
    {
     "data": {
      "text/plain": [
       "1536"
      ]
     },
     "execution_count": 52,
     "metadata": {},
     "output_type": "execute_result"
    }
   ],
   "source": [
    "len(get_word_embedding(\"dog\"))"
   ]
  },
  {
   "cell_type": "markdown",
   "metadata": {},
   "source": [
    "game"
   ]
  },
  {
   "cell_type": "code",
   "execution_count": 53,
   "metadata": {},
   "outputs": [
    {
     "name": "stdout",
     "output_type": "stream",
     "text": [
      "0.8635742232591531\n",
      "Congratulations! You both chose dog in 2 turn(s).\n"
     ]
    }
   ],
   "source": [
    "turns = 1\n",
    "embeddings = []\n",
    "players = []\n",
    "\n",
    "while True:\n",
    "    player1_word = input(\"Player 1, enter your word: \").strip()\n",
    "    player2_word = input(\"Player 2, enter your word: \").strip()\n",
    "\n",
    "    embeddings.append(get_emb(player1_word))\n",
    "    players.append('Player 1')\n",
    "    embeddings.append(get_emb(player2_word))\n",
    "    players.append('Player 2')\n",
    "\n",
    "    if player1_word == player2_word:\n",
    "        print(f\"Congratulations! You both chose {player1_word} in {turns} turn(s).\")\n",
    "        break\n",
    "\n",
    "    distance = get_distance(player1_word, player2_word)\n",
    "    print(distance)\n",
    "    turns += 1"
   ]
  },
  {
   "cell_type": "code",
   "execution_count": 61,
   "metadata": {},
   "outputs": [
    {
     "data": {
      "image/png": "[encoded data removed]",
      "text/plain": [
       "<Figure size 640x480 with 1 Axes>"
      ]
     },
     "metadata": {},
     "output_type": "display_data"
    }
   ],
   "source": [
    "# Create DataFrame\n",
    "df = pd.DataFrame({'emb': embeddings, 'player': players})\n",
    "\n",
    "# Visualization\n",
    "mat = np.array(df.emb.to_list())\n",
    "perplexity = min(5, turns - 1)\n",
    "vis = TSNE(n_components=2, perplexity=perplexity, random_state=42).fit_transform(mat)\n",
    "\n",
    "colors = [\"red\", \"blue\"]\n",
    "x, y = vis[:, 0], vis[:, 1]\n",
    "color_indices = df.player.map({'Player 1': 0, 'Player 2': 1}).values\n",
    "\n",
    "plt.scatter(x, y, c=color_indices, cmap=matplotlib.colors.ListedColormap(colors), alpha=0.5, s=50)\n",
    "\n",
    "# Mark the ending point\n",
    "plt.scatter(x[-2], y[-2], marker='x', color=colors[0], s=100)\n",
    "plt.scatter(x[-1], y[-1], marker='x', color=colors[1], s=100)\n",
    "\n",
    "plt.title(\"embedding space\")  # t-SNE\n",
    "plt.show()"
   ]
  },
  {
   "cell_type": "code",
   "execution_count": 56,
   "metadata": {},
   "outputs": [
    {
     "data": {
      "text/html": [
       "<div>\n",
       "<style scoped>\n",
       "    .dataframe tbody tr th:only-of-type {\n",
       "        vertical-align: middle;\n",
       "    }\n",
       "\n",
       "    .dataframe tbody tr th {\n",
       "        vertical-align: top;\n",
       "    }\n",
       "\n",
       "    .dataframe thead th {\n",
       "        text-align: right;\n",
       "    }\n",
       "</style>\n",
       "<table border=\"1\" class=\"dataframe\">\n",
       "  <thead>\n",
       "    <tr style=\"text-align: right;\">\n",
       "      <th></th>\n",
       "      <th>emb</th>\n",
       "      <th>player</th>\n",
       "    </tr>\n",
       "  </thead>\n",
       "  <tbody>\n",
       "    <tr>\n",
       "      <th>0</th>\n",
       "      <td>[-0.003346655, -0.017767696, -0.015915204, -0....</td>\n",
       "      <td>Player 1</td>\n",
       "    </tr>\n",
       "    <tr>\n",
       "      <th>1</th>\n",
       "      <td>[-0.0070234784, -0.017333334, -0.009631996, -0...</td>\n",
       "      <td>Player 2</td>\n",
       "    </tr>\n",
       "    <tr>\n",
       "      <th>2</th>\n",
       "      <td>[-0.003346655, -0.017767696, -0.015915204, -0....</td>\n",
       "      <td>Player 1</td>\n",
       "    </tr>\n",
       "    <tr>\n",
       "      <th>3</th>\n",
       "      <td>[-0.0033572898, -0.017774882, -0.015882498, -0...</td>\n",
       "      <td>Player 2</td>\n",
       "    </tr>\n",
       "  </tbody>\n",
       "</table>\n",
       "</div>"
      ],
      "text/plain": [
       "                                                 emb    player\n",
       "0  [-0.003346655, -0.017767696, -0.015915204, -0....  Player 1\n",
       "1  [-0.0070234784, -0.017333334, -0.009631996, -0...  Player 2\n",
       "2  [-0.003346655, -0.017767696, -0.015915204, -0....  Player 1\n",
       "3  [-0.0033572898, -0.017774882, -0.015882498, -0...  Player 2"
      ]
     },
     "execution_count": 56,
     "metadata": {},
     "output_type": "execute_result"
    }
   ],
   "source": [
    "df"
   ]
  },
  {
   "cell_type": "code",
   "execution_count": null,
   "metadata": {},
   "outputs": [],
   "source": []
  }
 ],
 "metadata": {
  "kernelspec": {
   "display_name": "ml",
   "language": "python",
   "name": "python3"
  },
  "language_info": {
   "codemirror_mode": {
    "name": "ipython",
    "version": 3
   },
   "file_extension": ".py",
   "mimetype": "text/x-python",
   "name": "python",
   "nbconvert_exporter": "python",
   "pygments_lexer": "ipython3",
   "version": "3.11.4"
  },
  "orig_nbformat": 4
 },
 "nbformat": 4,
 "nbformat_minor": 2
}
